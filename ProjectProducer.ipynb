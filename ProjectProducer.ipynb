{
 "cells": [
  {
   "cell_type": "code",
   "execution_count": 5,
   "id": "3531c4be",
   "metadata": {},
   "outputs": [
    {
     "name": "stdout",
     "output_type": "stream",
     "text": [
      "Requirement already satisfied: kafka-python in c:\\users\\bouka\\anaconda3\\lib\\site-packages (2.0.2)\n",
      "Note: you may need to restart the kernel to use updated packages.\n"
     ]
    }
   ],
   "source": [
    "pip install kafka-python"
   ]
  },
  {
   "cell_type": "code",
   "execution_count": 3,
   "id": "a9e2b21e",
   "metadata": {},
   "outputs": [],
   "source": [
    "import pandas as pd\n",
    "from kafka import KafkaProducer\n",
    "from time import sleep\n",
    "from json import dumps\n",
    "import json"
   ]
  },
  {
   "cell_type": "markdown",
   "id": "9fba155c",
   "metadata": {},
   "source": [
    "sending data in specific format (json) from our kafka producer into our kafka consumer\n"
   ]
  },
  {
   "cell_type": "code",
   "execution_count": null,
   "id": "5d5be1ae",
   "metadata": {},
   "outputs": [],
   "source": [
    "producer = KafkaProducer(bootstrap_servers=['51.20.191.41:9092'],# connect to your bootstrap public IP because wonna connect to our kafka server from our local machine  \n",
    "                         value_serializer=lambda x: \n",
    "                         dumps(x).encode('utf-8'))"
   ]
  },
  {
   "cell_type": "markdown",
   "id": "6d470c8a",
   "metadata": {},
   "source": [
    "testing our producer by sending anything , and in the consumer part you gonna recieve your data ({'project':'kafka project'})\n",
    "as you can see we are sending data from our local machine to the ec2 of the kafka server and we are able to consume it in real time "
   ]
  },
  {
   "cell_type": "code",
   "execution_count": null,
   "id": "9a5f25d9",
   "metadata": {},
   "outputs": [],
   "source": [
    "producer.send('my_demo', value={'name':'loubna'})"
   ]
  },
  {
   "cell_type": "code",
   "execution_count": null,
   "id": "d9e286ec",
   "metadata": {},
   "outputs": [],
   "source": [
    "df = pd.read_csv(\"data/ADRE.csv\")"
   ]
  },
  {
   "cell_type": "code",
   "execution_count": null,
   "id": "053db4ae",
   "metadata": {},
   "outputs": [],
   "source": [
    "df.head()"
   ]
  },
  {
   "cell_type": "code",
   "execution_count": null,
   "id": "ffb15dc5",
   "metadata": {},
   "outputs": [],
   "source": [
    "while True:\n",
    "    dict_stock = df.sample(1).to_dict(orient=\"records\")[0]\n",
    "    producer.send('my_demo', value=dict_stock)\n",
    "    sleep(1)"
   ]
  },
  {
   "cell_type": "code",
   "execution_count": null,
   "id": "2052ddc2",
   "metadata": {},
   "outputs": [],
   "source": [
    "#producer.flush() "
   ]
  }
 ],
 "metadata": {
  "kernelspec": {
   "display_name": "Python 3 (ipykernel)",
   "language": "python",
   "name": "python3"
  },
  "language_info": {
   "codemirror_mode": {
    "name": "ipython",
    "version": 3
   },
   "file_extension": ".py",
   "mimetype": "text/x-python",
   "name": "python",
   "nbconvert_exporter": "python",
   "pygments_lexer": "ipython3",
   "version": "3.11.5"
  }
 },
 "nbformat": 4,
 "nbformat_minor": 5
}
