{
 "cells": [
  {
   "cell_type": "code",
   "execution_count": null,
   "id": "b48c0ffc",
   "metadata": {},
   "outputs": [],
   "source": [
    "from kafka import KafkaConsumer\n",
    "from time import sleep\n",
    "from json import dumps,loads\n",
    "import json\n",
    "from s3fs import S3FileSystem"
   ]
  },
  {
   "cell_type": "markdown",
   "id": "081b3e40",
   "metadata": {},
   "source": [
    "in this demo i load the data with decoding it  into json format"
   ]
  },
  {
   "cell_type": "code",
   "execution_count": null,
   "id": "944517a6",
   "metadata": {},
   "outputs": [],
   "source": [
    "consumer = KafkaConsumer(\n",
    "    'my_demo',\n",
    "     bootstrap_servers=['51.20.191.41:9092'], #provide the public IP here\n",
    "    value_deserializer=lambda x: loads(x.decode('utf-8')))"
   ]
  },
  {
   "cell_type": "markdown",
   "id": "2898737c",
   "metadata": {},
   "source": [
    "testing the consumer , so now we are running the producer code to send the data and in other hand we recive it in consumer side \n"
   ]
  },
  {
   "cell_type": "code",
   "execution_count": null,
   "id": "bf7398da",
   "metadata": {},
   "outputs": [],
   "source": [
    "for c in consumer:\n",
    "    \n",
    "    print(c.value)\n",
    "    \n",
    "    "
   ]
  },
  {
   "cell_type": "code",
   "execution_count": null,
   "id": "b65ce019",
   "metadata": {},
   "outputs": [],
   "source": [
    "s3 = S3FileSystem()"
   ]
  },
  {
   "cell_type": "code",
   "execution_count": null,
   "id": "c16ddf24",
   "metadata": {},
   "outputs": [],
   "source": [
    "\n",
    "for count, i in enumerate(consumer):\n",
    "    with s3.open(\"s3://loubna-kafka-stock-market/stock_market_{}.json\".format(count), 'w') as file:\n",
    "        json.dump(i.value, file) "
   ]
  }
 ],
 "metadata": {
  "kernelspec": {
   "display_name": "Python 3 (ipykernel)",
   "language": "python",
   "name": "python3"
  },
  "language_info": {
   "codemirror_mode": {
    "name": "ipython",
    "version": 3
   },
   "file_extension": ".py",
   "mimetype": "text/x-python",
   "name": "python",
   "nbconvert_exporter": "python",
   "pygments_lexer": "ipython3",
   "version": "3.11.5"
  }
 },
 "nbformat": 4,
 "nbformat_minor": 5
}
